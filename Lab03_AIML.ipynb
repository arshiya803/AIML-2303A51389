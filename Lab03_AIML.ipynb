{
  "nbformat": 4,
  "nbformat_minor": 0,
  "metadata": {
    "colab": {
      "provenance": [],
      "authorship_tag": "ABX9TyPMtjb77OlELGzFshkT9cZk",
      "include_colab_link": true
    },
    "kernelspec": {
      "name": "python3",
      "display_name": "Python 3"
    },
    "language_info": {
      "name": "python"
    }
  },
  "cells": [
    {
      "cell_type": "markdown",
      "metadata": {
        "id": "view-in-github",
        "colab_type": "text"
      },
      "source": [
        "<a href=\"https://colab.research.google.com/github/arshiya803/AIML-2303A51389/blob/main/Lab03_AIML.ipynb\" target=\"_parent\"><img src=\"https://colab.research.google.com/assets/colab-badge.svg\" alt=\"Open In Colab\"/></a>"
      ]
    },
    {
      "cell_type": "markdown",
      "source": [
        "1 Implement the AI Game Strategy"
      ],
      "metadata": {
        "id": "lKqL57fFJ978"
      }
    },
    {
      "cell_type": "markdown",
      "source": [
        "Part 1 –(a). Install the Python Libraries required for Game Strategy. [CO2]"
      ],
      "metadata": {
        "id": "a_jxccMeKD5-"
      }
    },
    {
      "cell_type": "markdown",
      "source": [
        "1. Install the python libraries - collections, random, math, functools,\n",
        "cache = functools.lru cache(10**6)\n",
        "2. Implement a Game Class Constructor using action, is terminal, result, utility functions\n",
        "3. A game is similar to a problem, but it has a terminal test instead of a goal test, and a\n",
        "utility for each terminal state.\n",
        "4. Create a game subclass and implement actions, result, is terminal, and utility.\n",
        "5. You will also need to set the initial attribute to the initial state; this can be done in the\n",
        "constructor.\n"
      ],
      "metadata": {
        "id": "834K3MKXKGP2"
      }
    },
    {
      "cell_type": "code",
      "source": [
        "class Game:\n",
        "  def actions(self, state ):\n",
        "         \"\"\"Return a collection of the allowable moves from this state .\"\"\"\n",
        "         raise NotImplementedError\n",
        "  def result(self, state , move ):\n",
        "        \"\"\"Return the state that results from making a move from a state .\"\"\"\n",
        "        raise NotImplementedError\n",
        "  def is_terminal (self, state ):\n",
        "         \"\"\"Return True i f this is a final state for the game.\"\"\"\n",
        "         return not self.actions(state)\n",
        "  def utility(self, state , player ):\n",
        "        \"\"\"Return the value of this final state to player .\"\"\"\n",
        "        raise NotImplementedError"
      ],
      "metadata": {
        "id": "h-0MojsFKJ-B"
      },
      "execution_count": 6,
      "outputs": []
    },
    {
      "cell_type": "markdown",
      "source": [
        "6. Implement a Player Game using the Game Class Constructor."
      ],
      "metadata": {
        "id": "RxP-Osx0MKGn"
      }
    },
    {
      "cell_type": "code",
      "source": [
        "def play_game (game , strategies : dict , verbose=False ):\n",
        "      \"\"\"Play a turn−taking game. ‘strategies ‘ is a {player name: function} dict ,\n",
        "      where function(state , game) is used to get the player ’s move.\"\"\"\n",
        "      state = game.initial\n",
        "      while not game.is_terminal (state ):\n",
        "         player = state.to_move\n",
        "         move = strategies [player ](game , state)\n",
        "         state = game.result(state , move)\n",
        "         if verbose:\n",
        "           print('Player', player , 'move:', move)\n",
        "           print(state)\n",
        "           return state\n",
        "\n"
      ],
      "metadata": {
        "id": "yOTBizPbMMkv"
      },
      "execution_count": 13,
      "outputs": []
    },
    {
      "cell_type": "markdown",
      "source": [
        "Part 2 – Implement the Game Strategy Algorithms. [CO3]"
      ],
      "metadata": {
        "id": "pFYSaqztNEw1"
      }
    },
    {
      "cell_type": "markdown",
      "source": [
        "1. Implement the MiniMax Search Algorithm"
      ],
      "metadata": {
        "id": "pnJhKLsINGrq"
      }
    },
    {
      "cell_type": "code",
      "source": [
        "def minimax search (game , state ):\n",
        "      \"\"\"Search game tree to determine best move; return (value , move) pair .\"\"\"\n",
        "      player = state. to move\n",
        "      def max_value (state ):\n",
        "        if game. is terminal (state ):\n",
        "        return game.utility(state , player), None\n",
        "        v, move = −infinity , None\n",
        "        for a in game.actions(state ):\n",
        "        v2 , = min value (game.result(state , a))\n",
        "        if v2 > v:\n",
        "        v, move = v2 , a\n",
        "        return v, move\n",
        "     def min_value (state ):\n",
        "        if game. is terminal (state ):\n",
        "        return game.utility(state , player), None\n",
        "        v, move = +infinity , None\n",
        "       for a in game.actions(state ):\n",
        "       v2 , = max value (game.result(state , a))\n",
        "       if v2 < v:\n",
        "       v, move = v2 , a\n",
        "       return v, move\n",
        "       return max value (state)\n",
        "       infinity = math.inf"
      ],
      "metadata": {
        "colab": {
          "base_uri": "https://localhost:8080/",
          "height": 110
        },
        "id": "jebTmGTyNLEu",
        "outputId": "14498daa-f73e-4f42-f7a5-f5790da48b0f"
      },
      "execution_count": 19,
      "outputs": [
        {
          "output_type": "error",
          "ename": "IndentationError",
          "evalue": "unindent does not match any outer indentation level (<tokenize>, line 13)",
          "traceback": [
            "\u001b[0;36m  File \u001b[0;32m\"<tokenize>\"\u001b[0;36m, line \u001b[0;32m13\u001b[0m\n\u001b[0;31m    def min_value (state ):\u001b[0m\n\u001b[0m    ^\u001b[0m\n\u001b[0;31mIndentationError\u001b[0m\u001b[0;31m:\u001b[0m unindent does not match any outer indentation level\n"
          ]
        }
      ]
    }
  ]
}